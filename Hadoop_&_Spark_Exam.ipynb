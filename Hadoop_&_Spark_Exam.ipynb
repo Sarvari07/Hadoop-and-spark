{
  "nbformat": 4,
  "nbformat_minor": 0,
  "metadata": {
    "colab": {
      "name": "Hadoop_&_Spark_Exam.ipynb",
      "provenance": []
    },
    "kernelspec": {
      "name": "python3",
      "display_name": "Python 3"
    },
    "language_info": {
      "name": "python"
    }
  },
  "cells": [
    {
      "cell_type": "code",
      "execution_count": 1,
      "metadata": {
        "colab": {
          "base_uri": "https://localhost:8080/"
        },
        "id": "_7SJNNw2HxHp",
        "outputId": "78754f5e-3c81-4956-bd9f-a55b4b5663dc"
      },
      "outputs": [
        {
          "output_type": "stream",
          "name": "stdout",
          "text": [
            "Looking in indexes: https://pypi.org/simple, https://us-python.pkg.dev/colab-wheels/public/simple/\n",
            "Requirement already satisfied: pyspark in /usr/local/lib/python3.7/dist-packages (3.2.1)\n",
            "Requirement already satisfied: py4j==0.10.9.3 in /usr/local/lib/python3.7/dist-packages (from pyspark) (0.10.9.3)\n"
          ]
        }
      ],
      "source": [
        "pip install pyspark"
      ]
    },
    {
      "cell_type": "code",
      "source": [
        "import pyspark\n",
        "from pyspark.sql import SparkSession\n",
        "from pyspark.sql import Row\n",
        "from pyspark.ml.stat import Correlation\n",
        "from pyspark.ml.feature import VectorAssembler\n",
        "from pyspark.sql.functions import col\n",
        "from pyspark.sql.functions import *\n",
        "from pyspark.ml.feature import VectorAssembler\n",
        "from pyspark.ml.regression import LinearRegression\n",
        "from pyspark.ml.evaluation import RegressionEvaluator\n",
        "appName= \"hive_pyspark\"\n",
        "master= \"local\""
      ],
      "metadata": {
        "id": "abecyE6VPb0s"
      },
      "execution_count": 2,
      "outputs": []
    },
    {
      "cell_type": "code",
      "source": [
        "spark = SparkSession.builder \\\n",
        "\t.master(master).appName(appName).enableHiveSupport().getOrCreate()"
      ],
      "metadata": {
        "id": "PNLbdHD7PyaE"
      },
      "execution_count": 3,
      "outputs": []
    },
    {
      "cell_type": "code",
      "source": [
        "df=spark.sql(\"show databases\")\n",
        "df.show()"
      ],
      "metadata": {
        "colab": {
          "base_uri": "https://localhost:8080/"
        },
        "id": "2qy7PW0pP0OB",
        "outputId": "85470cf4-7530-43d2-ff32-45f8c005027e"
      },
      "execution_count": 4,
      "outputs": [
        {
          "output_type": "stream",
          "name": "stdout",
          "text": [
            "+---------+\n",
            "|namespace|\n",
            "+---------+\n",
            "|  default|\n",
            "+---------+\n",
            "\n"
          ]
        }
      ]
    },
    {
      "cell_type": "markdown",
      "source": [
        "Read the given CSV file in a Hive "
      ],
      "metadata": {
        "id": "AKYmUfUKRw-U"
      }
    },
    {
      "cell_type": "code",
      "source": [
        "data=spark.read.csv(\"boston.csv\",header=True)\n",
        "data.show(5)\n",
        "data.write.saveAsTable(\"bostontable\")"
      ],
      "metadata": {
        "colab": {
          "base_uri": "https://localhost:8080/"
        },
        "id": "wJv-ksLKP16J",
        "outputId": "6670a153-95a1-4549-c298-919e9cae098c"
      },
      "execution_count": 6,
      "outputs": [
        {
          "output_type": "stream",
          "name": "stdout",
          "text": [
            "+-----------+---+-----------+----+-----------+-----------+-----------+-----------+---+---+-----------+-----------+-----------+-----------+\n",
            "|       CRIM| ZN|      INDUS|CHAS|        NOX|         RM|        AGE|        DIS|RAD|TAX|         PT|          B|      LSTAT|         MV|\n",
            "+-----------+---+-----------+----+-----------+-----------+-----------+-----------+---+---+-----------+-----------+-----------+-----------+\n",
            "|    0.00632| 18|2.309999943|   0|0.537999988|6.574999809|65.19999695|4.090000153|  1|296|15.30000019|396.8999939|4.980000019|         24|\n",
            "|0.027310001|  0|7.070000172|   0|0.469000012|6.421000004|78.90000153|4.967100143|  2|242|17.79999924|396.8999939|9.140000343|21.60000038|\n",
            "|    0.02729|  0|7.070000172|   0|0.469000012|7.184999943|61.09999847|4.967100143|  2|242|17.79999924|392.8299866| 4.03000021|34.70000076|\n",
            "|0.032370001|  0|2.180000067|   0|0.458000004|6.998000145|45.79999924|6.062200069|  3|222|18.70000076|394.6300049|2.940000057|33.40000153|\n",
            "|0.069049999|  0|2.180000067|   0|0.458000004|7.146999836|54.20000076|6.062200069|  3|222|18.70000076|396.8999939|5.329999924|36.20000076|\n",
            "+-----------+---+-----------+----+-----------+-----------+-----------+-----------+---+---+-----------+-----------+-----------+-----------+\n",
            "only showing top 5 rows\n",
            "\n"
          ]
        }
      ]
    },
    {
      "cell_type": "code",
      "source": [
        "df=spark.sql(\"select * from bostontable\")\n",
        "df.show()"
      ],
      "metadata": {
        "colab": {
          "base_uri": "https://localhost:8080/"
        },
        "id": "mEmPJuMGP8Z7",
        "outputId": "b8602826-1ce5-43d2-da97-f47d4be6599c"
      },
      "execution_count": 7,
      "outputs": [
        {
          "output_type": "stream",
          "name": "stdout",
          "text": [
            "+-----------+----+-----------+----+-----------+-----------+-----------+-----------+---+---+-----------+-----------+-----------+-----------+\n",
            "|       CRIM|  ZN|      INDUS|CHAS|        NOX|         RM|        AGE|        DIS|RAD|TAX|         PT|          B|      LSTAT|         MV|\n",
            "+-----------+----+-----------+----+-----------+-----------+-----------+-----------+---+---+-----------+-----------+-----------+-----------+\n",
            "|    0.00632|  18|2.309999943|   0|0.537999988|6.574999809|65.19999695|4.090000153|  1|296|15.30000019|396.8999939|4.980000019|         24|\n",
            "|0.027310001|   0|7.070000172|   0|0.469000012|6.421000004|78.90000153|4.967100143|  2|242|17.79999924|396.8999939|9.140000343|21.60000038|\n",
            "|    0.02729|   0|7.070000172|   0|0.469000012|7.184999943|61.09999847|4.967100143|  2|242|17.79999924|392.8299866| 4.03000021|34.70000076|\n",
            "|0.032370001|   0|2.180000067|   0|0.458000004|6.998000145|45.79999924|6.062200069|  3|222|18.70000076|394.6300049|2.940000057|33.40000153|\n",
            "|0.069049999|   0|2.180000067|   0|0.458000004|7.146999836|54.20000076|6.062200069|  3|222|18.70000076|396.8999939|5.329999924|36.20000076|\n",
            "|0.029850001|   0|2.180000067|   0|0.458000004|6.429999828|58.70000076|6.062200069|  3|222|18.70000076|394.1199951|5.210000038|28.70000076|\n",
            "|0.088289998|12.5|7.869999886|   0|0.523999989|6.012000084|66.59999847|5.560500145|  5|311|15.19999981|395.6000061|12.43000031|22.89999962|\n",
            "|0.144549996|12.5|7.869999886|   0|0.523999989|6.171999931|96.09999847|5.950500011|  5|311|15.19999981|396.8999939|19.14999962|27.10000038|\n",
            "|0.211239994|12.5|7.869999886|   0|0.523999989|5.631000042|        100|6.082099915|  5|311|15.19999981|386.6300049|29.93000031|       16.5|\n",
            "|0.170039997|12.5|7.869999886|   0|0.523999989|6.004000187|85.90000153|6.592100143|  5|311|15.19999981|386.7099915|17.10000038|18.89999962|\n",
            "|0.224889994|12.5|7.869999886|   0|0.523999989|6.376999855|94.30000305|6.346700191|  5|311|15.19999981| 392.519989|20.45000076|         15|\n",
            "|0.117470004|12.5|7.869999886|   0|0.523999989|6.008999825|82.90000153|6.226699829|  5|311|15.19999981|396.8999939|13.27000046|18.89999962|\n",
            "|0.093780003|12.5|7.869999886|   0|0.523999989|5.888999939|         39|5.450900078|  5|311|15.19999981|      390.5|15.71000004|21.70000076|\n",
            "|0.629760027|   0|8.140000343|   0|0.537999988|5.948999882|61.79999924|4.707499981|  4|307|         21|396.8999939|8.260000229|20.39999962|\n",
            "|0.637960017|   0|8.140000343|   0|0.537999988|6.096000195|       84.5|4.461900234|  4|307|         21| 380.019989|10.26000023|18.20000076|\n",
            "|0.627390027|   0|8.140000343|   0|0.537999988|5.834000111|       56.5|4.498600006|  4|307|         21|395.6199951|8.470000267|19.89999962|\n",
            "|1.053930044|   0|8.140000343|   0|0.537999988|5.934999943|29.29999924|4.498600006|  4|307|         21|386.8500061|6.579999924|23.10000038|\n",
            "|0.784200013|   0|8.140000343|   0|0.537999988|5.989999771|81.69999695|4.257900238|  4|307|         21|     386.75|14.67000008|       17.5|\n",
            "|0.802709997|   0|8.140000343|   0|0.537999988|5.455999851|36.59999847|3.796499968|  4|307|         21|288.9899902|11.68999958|20.20000076|\n",
            "|0.725799978|   0|8.140000343|   0|0.537999988|5.727000237|       69.5|3.796499968|  4|307|         21|390.9500122|11.27999973|18.20000076|\n",
            "+-----------+----+-----------+----+-----------+-----------+-----------+-----------+---+---+-----------+-----------+-----------+-----------+\n",
            "only showing top 20 rows\n",
            "\n"
          ]
        }
      ]
    },
    {
      "cell_type": "markdown",
      "source": [
        "Read the data from Hive table as spark dataframe"
      ],
      "metadata": {
        "id": "NDqVLXk0SDOA"
      }
    },
    {
      "cell_type": "code",
      "source": [
        "for col in df.dtypes:\n",
        "    print(col[0]+\" , \"+col[1])"
      ],
      "metadata": {
        "colab": {
          "base_uri": "https://localhost:8080/"
        },
        "id": "G50ifbGbQDZ6",
        "outputId": "2d393c83-1320-40bd-cbef-7cee9ac4e4de"
      },
      "execution_count": 8,
      "outputs": [
        {
          "output_type": "stream",
          "name": "stdout",
          "text": [
            "CRIM , string\n",
            "ZN , string\n",
            "INDUS , string\n",
            "CHAS , string\n",
            "NOX , string\n",
            "RM , string\n",
            "AGE , string\n",
            "DIS , string\n",
            "RAD , string\n",
            "TAX , string\n",
            "PT , string\n",
            "B , string\n",
            "LSTAT , string\n",
            "MV , string\n"
          ]
        }
      ]
    },
    {
      "cell_type": "code",
      "source": [
        "# Changing the Data Type of the columns to double\n",
        "from pyspark.sql.functions import col\n",
        "df = df.select([col(column).cast('double') for column in df.columns])"
      ],
      "metadata": {
        "id": "dIS-P4s2QGHd"
      },
      "execution_count": 9,
      "outputs": []
    },
    {
      "cell_type": "code",
      "source": [
        "#Get All column names and it's types\n",
        "for col in df.dtypes:\n",
        "    print(col[0]+\" , \"+col[1])"
      ],
      "metadata": {
        "colab": {
          "base_uri": "https://localhost:8080/"
        },
        "id": "pY86pWONQMN_",
        "outputId": "49327daa-c3e8-41be-8ca9-687a679679c5"
      },
      "execution_count": 10,
      "outputs": [
        {
          "output_type": "stream",
          "name": "stdout",
          "text": [
            "CRIM , double\n",
            "ZN , double\n",
            "INDUS , double\n",
            "CHAS , double\n",
            "NOX , double\n",
            "RM , double\n",
            "AGE , double\n",
            "DIS , double\n",
            "RAD , double\n",
            "TAX , double\n",
            "PT , double\n",
            "B , double\n",
            "LSTAT , double\n",
            "MV , double\n"
          ]
        }
      ]
    },
    {
      "cell_type": "code",
      "source": [
        "# convert to vector column first\n",
        "vector_col = \"corr_features\"\n",
        "assembler = VectorAssembler(inputCols=df.columns, outputCol=vector_col)\n",
        "df_vector = assembler.transform(df).select(vector_col)"
      ],
      "metadata": {
        "id": "78zQYX7SQP9G"
      },
      "execution_count": 11,
      "outputs": []
    },
    {
      "cell_type": "code",
      "source": [
        "df.dtypes"
      ],
      "metadata": {
        "colab": {
          "base_uri": "https://localhost:8080/"
        },
        "id": "CiarnhGRQnf2",
        "outputId": "13b6ecf6-9184-43f1-b715-6192225a352c"
      },
      "execution_count": 12,
      "outputs": [
        {
          "output_type": "execute_result",
          "data": {
            "text/plain": [
              "[('CRIM', 'double'),\n",
              " ('ZN', 'double'),\n",
              " ('INDUS', 'double'),\n",
              " ('CHAS', 'double'),\n",
              " ('NOX', 'double'),\n",
              " ('RM', 'double'),\n",
              " ('AGE', 'double'),\n",
              " ('DIS', 'double'),\n",
              " ('RAD', 'double'),\n",
              " ('TAX', 'double'),\n",
              " ('PT', 'double'),\n",
              " ('B', 'double'),\n",
              " ('LSTAT', 'double'),\n",
              " ('MV', 'double')]"
            ]
          },
          "metadata": {},
          "execution_count": 12
        }
      ]
    },
    {
      "cell_type": "markdown",
      "source": [
        "Get the correlation between dependent and independent variables"
      ],
      "metadata": {
        "id": "cFjhEGF2SM9N"
      }
    },
    {
      "cell_type": "code",
      "source": [
        "# Printing the correlation of the IDV columns & the DV column using stst function\n",
        "for col in df.dtypes:\n",
        "    print('Correlation of',col[0],'&', 'MV =',df.stat.corr(col[0],'MV'))"
      ],
      "metadata": {
        "colab": {
          "base_uri": "https://localhost:8080/"
        },
        "id": "LHgtvay5QtGs",
        "outputId": "a49de528-f50b-48ed-f66c-37f52607d24a"
      },
      "execution_count": 13,
      "outputs": [
        {
          "output_type": "stream",
          "name": "stdout",
          "text": [
            "Correlation of CRIM & MV = -0.3883046116575089\n",
            "Correlation of ZN & MV = 0.360445344637529\n",
            "Correlation of INDUS & MV = -0.48372517128143366\n",
            "Correlation of CHAS & MV = 0.1752601777529185\n",
            "Correlation of NOX & MV = -0.4273207763683772\n",
            "Correlation of RM & MV = 0.6953599371272672\n",
            "Correlation of AGE & MV = -0.3769545671428867\n",
            "Correlation of DIS & MV = 0.24992873873512172\n",
            "Correlation of RAD & MV = -0.38162623156691683\n",
            "Correlation of TAX & MV = -0.46853593528654536\n",
            "Correlation of PT & MV = -0.5077867038116086\n",
            "Correlation of B & MV = 0.3334608226834165\n",
            "Correlation of LSTAT & MV = -0.7376627294671615\n",
            "Correlation of MV & MV = 1.0\n"
          ]
        }
      ]
    },
    {
      "cell_type": "markdown",
      "source": [
        "Build a linear regression model to predict house price"
      ],
      "metadata": {
        "id": "4akwskfkSVCP"
      }
    },
    {
      "cell_type": "code",
      "source": [
        "# Using Vector assembler to transform each row into a vector\n",
        "vectorAssembler = VectorAssembler(inputCols = ['CRIM', 'ZN', 'INDUS', 'CHAS', 'NOX', 'RM', 'AGE', 'DIS', 'RAD', 'TAX', 'PT', 'B', 'LSTAT'], outputCol = 'features')\n",
        "vhouse_df = vectorAssembler.transform(df)\n",
        "vhouse_df = vhouse_df.select(['features', 'MV'])\n",
        "vhouse_df.show(3)"
      ],
      "metadata": {
        "colab": {
          "base_uri": "https://localhost:8080/"
        },
        "id": "5dgGPlYwRMX6",
        "outputId": "268f73fe-6485-47d7-8e1b-8ef95db3182d"
      },
      "execution_count": 14,
      "outputs": [
        {
          "output_type": "stream",
          "name": "stdout",
          "text": [
            "+--------------------+-----------+\n",
            "|            features|         MV|\n",
            "+--------------------+-----------+\n",
            "|[0.00632,18.0,2.3...|       24.0|\n",
            "|[0.027310001,0.0,...|21.60000038|\n",
            "|[0.02729,0.0,7.07...|34.70000076|\n",
            "+--------------------+-----------+\n",
            "only showing top 3 rows\n",
            "\n"
          ]
        }
      ]
    },
    {
      "cell_type": "code",
      "source": [
        "# Spliting the dataset into training and testing datasets\n",
        "splits = vhouse_df.randomSplit([0.7, 0.3])\n",
        "train_df = splits[0]\n",
        "test_df = splits[1]"
      ],
      "metadata": {
        "id": "BNsMPwARROs1"
      },
      "execution_count": 15,
      "outputs": []
    },
    {
      "cell_type": "code",
      "source": [
        "# Building a Linear Regression Model\n",
        "lr = LinearRegression(featuresCol = 'features', labelCol='MV', maxIter=10, regParam=0.3, elasticNetParam=0.8)\n",
        "# fitting the Linear Regression Model\n",
        "lr_model = lr.fit(train_df)\n",
        "print(\"Coefficients: \" + str(lr_model.coefficients))\n",
        "print(\"Intercept: \" + str(lr_model.intercept))"
      ],
      "metadata": {
        "colab": {
          "base_uri": "https://localhost:8080/"
        },
        "id": "zR90q6FORQv6",
        "outputId": "85f5aa11-5360-49a2-db40-de6cc83f3fab"
      },
      "execution_count": 16,
      "outputs": [
        {
          "output_type": "stream",
          "name": "stdout",
          "text": [
            "Coefficients: [-0.04201970185640318,0.010714446902985515,0.0,3.527307541785578,-6.154107696720758,3.744732915921346,0.0,-0.7949301600555968,1.6514759252508173e-05,0.0,-0.6038896071882205,0.00807411560529177,-0.6133120748633886]\n",
            "Intercept: 21.252590516584764\n"
          ]
        }
      ]
    },
    {
      "cell_type": "markdown",
      "source": [
        " Evaluate the Linear Regression model by getting the RMSE and R-squared values"
      ],
      "metadata": {
        "id": "q1H4cX9cSZgh"
      }
    },
    {
      "cell_type": "code",
      "source": [
        "# Printing the RMSE & R2 Values of the model\n",
        "trainingSummary = lr_model.summary\n",
        "print(\"RMSE: %f\" % trainingSummary.rootMeanSquaredError)\n",
        "print(\"r2: %f\" % trainingSummary.r2)"
      ],
      "metadata": {
        "colab": {
          "base_uri": "https://localhost:8080/"
        },
        "id": "pSmF9e60RVr_",
        "outputId": "e02c0120-d079-4c25-a197-197117cbf7d9"
      },
      "execution_count": 18,
      "outputs": [
        {
          "output_type": "stream",
          "name": "stdout",
          "text": [
            "RMSE: 4.942463\n",
            "r2: 0.712588\n"
          ]
        }
      ]
    },
    {
      "cell_type": "code",
      "source": [
        "# Comparing the Predicted and Visually\n",
        "lr_predictions = lr_model.transform(test_df)\n",
        "lr_predictions.select(\"prediction\",\"MV\",\"features\").show(5)\n",
        "lr_evaluator = RegressionEvaluator(predictionCol=\"prediction\", \\\n",
        "                 labelCol=\"MV\",metricName=\"r2\")\n",
        "print(\"R Squared (R2) on test data = %g\" % lr_evaluator.evaluate(lr_predictions))"
      ],
      "metadata": {
        "colab": {
          "base_uri": "https://localhost:8080/"
        },
        "id": "YsEg9tXJRaqc",
        "outputId": "09bea790-9865-492b-bd4c-7efbdc4bb6fd"
      },
      "execution_count": 19,
      "outputs": [
        {
          "output_type": "stream",
          "name": "stdout",
          "text": [
            "+------------------+-----------+--------------------+\n",
            "|        prediction|         MV|            features|\n",
            "+------------------+-----------+--------------------+\n",
            "|30.887727384418568|32.70000076|[0.01301,35.0,1.5...|\n",
            "| 37.17739866483629|       50.0|[0.01381,80.0,0.4...|\n",
            "|26.862183623765166|       24.5|[0.01501,80.0,2.0...|\n",
            "| 41.30965014507718|       50.0|[0.01501,90.0,1.2...|\n",
            "|34.278166476248074|       44.0|[0.01538,90.0,3.7...|\n",
            "+------------------+-----------+--------------------+\n",
            "only showing top 5 rows\n",
            "\n",
            "R Squared (R2) on test data = 0.718054\n"
          ]
        }
      ]
    },
    {
      "cell_type": "code",
      "source": [
        "# Print RMSE for Test Data\n",
        "test_result = lr_model.evaluate(test_df)\n",
        "print(\"Root Mean Squared Error (RMSE) on test data = %g\" % test_result.rootMeanSquaredError)"
      ],
      "metadata": {
        "colab": {
          "base_uri": "https://localhost:8080/"
        },
        "id": "blI-foABRdbj",
        "outputId": "3ac3bd84-4f47-49dc-cdd3-d717e272d89d"
      },
      "execution_count": 20,
      "outputs": [
        {
          "output_type": "stream",
          "name": "stdout",
          "text": [
            "Root Mean Squared Error (RMSE) on test data = 4.8343\n"
          ]
        }
      ]
    },
    {
      "cell_type": "code",
      "source": [
        "# Printing Residuals\n",
        "print(\"numIterations: %d\" % trainingSummary.totalIterations)\n",
        "print(\"objectiveHistory: %s\" % str(trainingSummary.objectiveHistory))\n",
        "trainingSummary.residuals.show()"
      ],
      "metadata": {
        "colab": {
          "base_uri": "https://localhost:8080/"
        },
        "id": "oEtqa6RbRhYk",
        "outputId": "642fccd3-2f6a-48c3-d9b5-646022265041"
      },
      "execution_count": 21,
      "outputs": [
        {
          "output_type": "stream",
          "name": "stdout",
          "text": [
            "numIterations: 10\n",
            "objectiveHistory: [0.5, 0.4360833233915557, 0.2456996700095724, 0.21979719554757443, 0.18756120953301644, 0.18472744250440873, 0.18296106060619488, 0.1818328272487555, 0.18156765173078268, 0.18148517583503665, 0.18139770279345838]\n"
          ]
        },
        {
          "output_type": "stream",
          "name": "stderr",
          "text": [
            "/usr/local/lib/python3.7/dist-packages/pyspark/sql/context.py:127: FutureWarning: Deprecated in 3.0.0. Use SparkSession.builder.getOrCreate() instead.\n",
            "  FutureWarning\n"
          ]
        },
        {
          "output_type": "stream",
          "name": "stdout",
          "text": [
            "+-------------------+\n",
            "|          residuals|\n",
            "+-------------------+\n",
            "| -6.415456560079502|\n",
            "|  2.578240227390701|\n",
            "| -4.703407442581863|\n",
            "|  5.994175152628522|\n",
            "|  1.751667626385128|\n",
            "| 1.2683534463333501|\n",
            "| -1.047674784288514|\n",
            "|  4.773939574998693|\n",
            "| -2.496434095035024|\n",
            "| 0.4187864624213411|\n",
            "|  11.76447638222767|\n",
            "|-0.7569485357052272|\n",
            "|  6.797331066477113|\n",
            "| 0.4827290392985546|\n",
            "| -9.314123121044815|\n",
            "| 3.4265200538693925|\n",
            "|-3.7113406916915075|\n",
            "| 1.4822046231585588|\n",
            "| 0.9258887378655913|\n",
            "|  2.313511646778995|\n",
            "+-------------------+\n",
            "only showing top 20 rows\n",
            "\n"
          ]
        }
      ]
    },
    {
      "cell_type": "code",
      "source": [
        "# Checking the predictions\n",
        "predictions = lr_model.transform(test_df)\n",
        "predictions.select(\"prediction\",\"MV\",\"features\").show()"
      ],
      "metadata": {
        "colab": {
          "base_uri": "https://localhost:8080/"
        },
        "id": "dUv5bUwLRkFu",
        "outputId": "cf0f638b-7738-472a-a18a-4ca4813ff25f"
      },
      "execution_count": 22,
      "outputs": [
        {
          "output_type": "stream",
          "name": "stdout",
          "text": [
            "+------------------+-----------+--------------------+\n",
            "|        prediction|         MV|            features|\n",
            "+------------------+-----------+--------------------+\n",
            "|30.887727384418568|32.70000076|[0.01301,35.0,1.5...|\n",
            "| 37.17739866483629|       50.0|[0.01381,80.0,0.4...|\n",
            "|26.862183623765166|       24.5|[0.01501,80.0,2.0...|\n",
            "| 41.30965014507718|       50.0|[0.01501,90.0,1.2...|\n",
            "|34.278166476248074|       44.0|[0.01538,90.0,3.7...|\n",
            "| 30.53193238363042|32.90000153|[0.01778,95.0,1.4...|\n",
            "| 25.15517608924158|       33.0|[0.019509999,17.5...|\n",
            "|27.553002326120435|23.89999962|[0.025429999,55.0...|\n",
            "|27.440903488901053|       25.0|[0.028750001,28.0...|\n",
            "|29.140539663115263|31.20000076|[0.03049,55.0,3.7...|\n",
            "|32.359105544550346|34.90000153|[0.03359,75.0,2.9...|\n",
            "|21.984220705408532|20.89999962|[0.03548,80.0,3.6...|\n",
            "|24.772159853274097|22.89999962|[0.03551,25.0,4.8...|\n",
            "|29.066484227817412|27.89999962|[0.036150001,80.0...|\n",
            "|25.812714878172343|24.79999924|[0.036589999,25.0...|\n",
            "|23.382658275036444|20.70000076|[0.037379999,0.0,...|\n",
            "|22.024117108514748|21.10000038|[0.039609998,0.0,...|\n",
            "|28.281072474801448|       28.0|[0.041129999,25.0...|\n",
            "| 27.09876249458619|22.89999962|[0.042029999,28.0...|\n",
            "|23.508095826177435|       20.5|[0.043370001,21.0...|\n",
            "+------------------+-----------+--------------------+\n",
            "only showing top 20 rows\n",
            "\n"
          ]
        }
      ]
    },
    {
      "cell_type": "code",
      "source": [
        ""
      ],
      "metadata": {
        "id": "csIr9XkWRmV-"
      },
      "execution_count": null,
      "outputs": []
    },
    {
      "cell_type": "code",
      "source": [
        ""
      ],
      "metadata": {
        "id": "mc6XF0J_R1Cu"
      },
      "execution_count": null,
      "outputs": []
    }
  ]
}